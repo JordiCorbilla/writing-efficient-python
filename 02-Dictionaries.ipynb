{
 "cells": [
  {
   "cell_type": "markdown",
   "id": "888fc7d9",
   "metadata": {},
   "source": [
    "# Dictionaries"
   ]
  },
  {
   "cell_type": "code",
   "execution_count": 2,
   "id": "e5b72f72",
   "metadata": {},
   "outputs": [
    {
     "name": "stdout",
     "output_type": "stream",
     "text": [
      "{'ticker': 'AAPL', 'name': 'APPLE', 'current_price': 400}\n",
      "{'ticker': 'TSLA', 'name': 'TESLA', 'current_price': 550}\n",
      "Apples stock price is 400\n"
     ]
    }
   ],
   "source": [
    "# store values against a name\n",
    "# Setting a dictionary\n",
    "stock_dict_1 = {\n",
    "    \"ticker\": \"AAPL\",\n",
    "    \"name\": \"APPLE\",\n",
    "    \"current_price\": 400\n",
    "}\n",
    "stock_dict_2 = {\n",
    "    \"ticker\": \"TSLA\",\n",
    "    \"name\": \"TESLA\",\n",
    "    \"current_price\": 550\n",
    "}\n",
    "print(stock_dict_1)\n",
    "print(stock_dict_2)\n",
    "print(f\"Apples stock price is {stock_dict_1['current_price']}\")"
   ]
  },
  {
   "cell_type": "code",
   "execution_count": 4,
   "id": "176af41d",
   "metadata": {},
   "outputs": [
    {
     "name": "stdout",
     "output_type": "stream",
     "text": [
      "[{'ticker': 'AAPL', 'name': 'APPLE', 'current_price': 400}, {'ticker': 'TSLA', 'name': 'TESLA', 'current_price': 550}]\n",
      "\n",
      "The first stock ticker is:  AAPL\n"
     ]
    }
   ],
   "source": [
    "# Dictionaries in a list\n",
    "my_stocks = [stock_dict_1, stock_dict_2]\n",
    "print(my_stocks)\n",
    "print(\"\")\n",
    "print(\"The first stock ticker is: \", my_stocks[0][\"ticker\"])"
   ]
  },
  {
   "cell_type": "code",
   "execution_count": 6,
   "id": "3a06c4e6",
   "metadata": {},
   "outputs": [
    {
     "name": "stdout",
     "output_type": "stream",
     "text": [
      "{'opens': [2.34, 1.22, 1.19, 2.31], 'closes': [2.37, 2.0, 1.17, 2.22]}\n",
      "The last open price is 2.31\n"
     ]
    }
   ],
   "source": [
    "# storing lists in a dictionary\n",
    "open_prices = [2.34, 1.22, 1.19, 2.31]\n",
    "close_prices = [2.37, 2.00, 1.17, 2.22]\n",
    "prices_dict = {\n",
    "    \"opens\": open_prices,\n",
    "    \"closes\": close_prices\n",
    "}\n",
    "\n",
    "print(prices_dict)\n",
    "print(\"The last open price is\", prices_dict[\"opens\"][-1])"
   ]
  },
  {
   "cell_type": "code",
   "execution_count": null,
   "id": "41207910",
   "metadata": {},
   "outputs": [],
   "source": []
  }
 ],
 "metadata": {
  "kernelspec": {
   "display_name": "Python 3 (ipykernel)",
   "language": "python",
   "name": "python3"
  },
  "language_info": {
   "codemirror_mode": {
    "name": "ipython",
    "version": 3
   },
   "file_extension": ".py",
   "mimetype": "text/x-python",
   "name": "python",
   "nbconvert_exporter": "python",
   "pygments_lexer": "ipython3",
   "version": "3.10.4"
  }
 },
 "nbformat": 4,
 "nbformat_minor": 5
}
