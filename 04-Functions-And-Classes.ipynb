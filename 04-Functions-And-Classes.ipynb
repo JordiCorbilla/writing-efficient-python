{
 "cells": [
  {
   "cell_type": "markdown",
   "id": "254b14c1",
   "metadata": {},
   "source": [
    "# Functions"
   ]
  },
  {
   "cell_type": "code",
   "execution_count": 1,
   "id": "1c00666c",
   "metadata": {},
   "outputs": [],
   "source": [
    "# construct a function\n",
    "def add_price(price_1, price_2):\n",
    "    prices_sum = price_1 + price_2\n",
    "    return prices_sum"
   ]
  },
  {
   "cell_type": "code",
   "execution_count": 2,
   "id": "ace2b0b8",
   "metadata": {},
   "outputs": [
    {
     "name": "stdout",
     "output_type": "stream",
     "text": [
      "900\n"
     ]
    }
   ],
   "source": [
    "appl_price = 400\n",
    "tsla_price = 500\n",
    "added_prices = add_price(appl_price, tsla_price)\n",
    "print(added_prices)"
   ]
  },
  {
   "cell_type": "markdown",
   "id": "9ccdde6c",
   "metadata": {},
   "source": [
    "# Classes"
   ]
  },
  {
   "cell_type": "code",
   "execution_count": 4,
   "id": "6413d871",
   "metadata": {},
   "outputs": [],
   "source": [
    "from random import random\n",
    "\n",
    "# Create a Classs\n",
    "class StockTracker():\n",
    "    def __init__(self, name, price):\n",
    "        self.name = name\n",
    "        self.price = price\n",
    "        \n",
    "    def _random_generator(self):\n",
    "        value = random()\n",
    "        return value\n",
    "    \n",
    "    def multiply_by_random(self, x):\n",
    "        x = x + self._random_generator()\n",
    "        return x"
   ]
  },
  {
   "cell_type": "code",
   "execution_count": 9,
   "id": "29f4c780",
   "metadata": {},
   "outputs": [],
   "source": [
    "# Create a class instance\n",
    "strader_appl = StockTracker(\"APPLE\", 400)\n",
    "strader_goog = StockTracker(\"GOOGLE\", 1000);"
   ]
  },
  {
   "cell_type": "code",
   "execution_count": 7,
   "id": "130c2509",
   "metadata": {},
   "outputs": [
    {
     "name": "stdout",
     "output_type": "stream",
     "text": [
      "APPLE\n"
     ]
    }
   ],
   "source": [
    "# Calling a class instance - AAPL\n",
    "print(strader_appl.name)"
   ]
  },
  {
   "cell_type": "code",
   "execution_count": 11,
   "id": "e0e8f415",
   "metadata": {},
   "outputs": [
    {
     "name": "stdout",
     "output_type": "stream",
     "text": [
      "1000\n"
     ]
    }
   ],
   "source": [
    "# Calling a class instance - GOOG\n",
    "print(strader_goog.price)"
   ]
  },
  {
   "cell_type": "code",
   "execution_count": 13,
   "id": "74ca9f11",
   "metadata": {},
   "outputs": [
    {
     "name": "stdout",
     "output_type": "stream",
     "text": [
      "10.078488405243595\n"
     ]
    }
   ],
   "source": [
    "# Call class instance function\n",
    "print(strader_goog.multiply_by_random(10))"
   ]
  },
  {
   "cell_type": "code",
   "execution_count": 14,
   "id": "9e4b18fd",
   "metadata": {},
   "outputs": [],
   "source": [
    "# for inheritance, we can use StockTracker(baseClass)\n",
    "# and then use the super() method in the init section"
   ]
  },
  {
   "cell_type": "code",
   "execution_count": null,
   "id": "8e5380b7",
   "metadata": {},
   "outputs": [],
   "source": []
  }
 ],
 "metadata": {
  "kernelspec": {
   "display_name": "Python 3 (ipykernel)",
   "language": "python",
   "name": "python3"
  },
  "language_info": {
   "codemirror_mode": {
    "name": "ipython",
    "version": 3
   },
   "file_extension": ".py",
   "mimetype": "text/x-python",
   "name": "python",
   "nbconvert_exporter": "python",
   "pygments_lexer": "ipython3",
   "version": "3.10.4"
  }
 },
 "nbformat": 4,
 "nbformat_minor": 5
}
