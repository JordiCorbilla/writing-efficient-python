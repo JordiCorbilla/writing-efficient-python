{
 "cells": [
  {
   "cell_type": "markdown",
   "id": "1dbcef40",
   "metadata": {},
   "source": [
    "# Writing Better Loops"
   ]
  },
  {
   "cell_type": "markdown",
   "id": "0f543821",
   "metadata": {},
   "source": [
    "## 1) For Loop, List Comprehenion, Map Funtion and Itertools"
   ]
  },
  {
   "cell_type": "code",
   "execution_count": 21,
   "id": "f80e6296",
   "metadata": {},
   "outputs": [
    {
     "name": "stdout",
     "output_type": "stream",
     "text": [
      "[6.01, 4.76, 7.42]\n"
     ]
    }
   ],
   "source": [
    "# Sample Data, list of prices\n",
    "closing_prices = [\n",
    "    [0.30, 2.22, 2.18, 1.31],\n",
    "    [0.37, 1.00, 2.17, 1.22],\n",
    "    [0.34, 2.21, 2.89, 1.98]\n",
    "]\n",
    "\n",
    "# Sample calculation to perform\n",
    "price_totals = []\n",
    "for day in closing_prices:\n",
    "    price_totals.append(sum(day))\n",
    "\n",
    "print(price_totals)"
   ]
  },
  {
   "cell_type": "markdown",
   "id": "e1cc0985",
   "metadata": {},
   "source": [
    "### 1.1) Using common For Loop\n",
    "This is a common approach with a slow runtime"
   ]
  },
  {
   "cell_type": "code",
   "execution_count": 22,
   "id": "929487ce",
   "metadata": {},
   "outputs": [
    {
     "name": "stdout",
     "output_type": "stream",
     "text": [
      "543 ns ± 6.36 ns per loop (mean ± std. dev. of 7 runs, 1000000 loops each)\n"
     ]
    }
   ],
   "source": [
    "%%timeit\n",
    "\n",
    "price_totals = []\n",
    "for day in closing_prices:\n",
    "    price_totals.append(sum(day))"
   ]
  },
  {
   "cell_type": "code",
   "execution_count": 23,
   "id": "1663e692",
   "metadata": {},
   "outputs": [
    {
     "name": "stdout",
     "output_type": "stream",
     "text": [
      "775 ns ± 5.15 ns per loop (mean ± std. dev. of 7 runs, 1000000 loops each)\n"
     ]
    }
   ],
   "source": [
    "%%timeit\n",
    "\n",
    "price_totals = []\n",
    "for (index, day) in enumerate(closing_prices):\n",
    "    price_totals.append(sum(closing_prices[index]))"
   ]
  },
  {
   "cell_type": "markdown",
   "id": "d1522021",
   "metadata": {},
   "source": [
    "### 1.2) Using List Comprehension\n",
    "One line approach, better runtime"
   ]
  },
  {
   "cell_type": "code",
   "execution_count": 24,
   "id": "96981926",
   "metadata": {},
   "outputs": [
    {
     "name": "stdout",
     "output_type": "stream",
     "text": [
      "510 ns ± 2.4 ns per loop (mean ± std. dev. of 7 runs, 1000000 loops each)\n"
     ]
    }
   ],
   "source": [
    "%%timeit\n",
    "\n",
    "price_totals = [sum(day) for day in closing_prices]"
   ]
  },
  {
   "cell_type": "markdown",
   "id": "cf2af152",
   "metadata": {},
   "source": [
    "### 1.3) Using the Map function\n",
    "- One line approach, faster runtime\n",
    "- the `*` symbol in the map below is to indicate the number of arguments that will be passed to the list"
   ]
  },
  {
   "cell_type": "code",
   "execution_count": 28,
   "id": "d06f34c2",
   "metadata": {},
   "outputs": [
    {
     "name": "stdout",
     "output_type": "stream",
     "text": [
      "467 ns ± 3.28 ns per loop (mean ± std. dev. of 7 runs, 1000000 loops each)\n"
     ]
    }
   ],
   "source": [
    "%%timeit\n",
    "\n",
    "price_totals = [*map(sum, closing_prices)]"
   ]
  },
  {
   "cell_type": "markdown",
   "id": "78dd134a",
   "metadata": {},
   "source": [
    "### 1.4) Using the intertools"
   ]
  },
  {
   "cell_type": "markdown",
   "id": "ca218963",
   "metadata": {},
   "source": [
    "#### 1.4.1) Combinations"
   ]
  },
  {
   "cell_type": "code",
   "execution_count": 48,
   "id": "d17d0f24",
   "metadata": {},
   "outputs": [],
   "source": [
    "from itertools import combinations\n",
    "\n",
    "letters = ['a', 'b', 'c']\n",
    "\n",
    "# Create 2 letter combination from the input above (no repeats) -> ab, ac, bc"
   ]
  },
  {
   "cell_type": "code",
   "execution_count": 50,
   "id": "632c2df2",
   "metadata": {},
   "outputs": [
    {
     "name": "stdout",
     "output_type": "stream",
     "text": [
      "1.54 µs ± 17.1 ns per loop (mean ± std. dev. of 7 runs, 1000000 loops each)\n"
     ]
    }
   ],
   "source": [
    "%%timeit\n",
    "\n",
    "# using a simple for loop\n",
    "comb = []\n",
    "for char_1 in letters:\n",
    "    for char_2 in letters:\n",
    "        if char_1 != char_2 and ((char_1, char_2) not in comb) and ((char_2, char_1) not in comb):\n",
    "            comb.append((char_1, char_2))"
   ]
  },
  {
   "cell_type": "code",
   "execution_count": 53,
   "id": "afbf5f0c",
   "metadata": {},
   "outputs": [
    {
     "name": "stdout",
     "output_type": "stream",
     "text": [
      "['a b', 'a c', 'b c']\n"
     ]
    }
   ],
   "source": [
    "# printing the results\n",
    "combination = [' '.join(char) for char in comb]\n",
    "print(combination)"
   ]
  },
  {
   "cell_type": "code",
   "execution_count": 54,
   "id": "4d11fad0",
   "metadata": {},
   "outputs": [
    {
     "name": "stdout",
     "output_type": "stream",
     "text": [
      "134 ns ± 0.759 ns per loop (mean ± std. dev. of 7 runs, 10000000 loops each)\n"
     ]
    }
   ],
   "source": [
    "%%timeit\n",
    "\n",
    "# using intertools\n",
    "comb = []\n",
    "comb = combinations(letters, 2)"
   ]
  },
  {
   "cell_type": "code",
   "execution_count": 55,
   "id": "07798f24",
   "metadata": {},
   "outputs": [
    {
     "name": "stdout",
     "output_type": "stream",
     "text": [
      "['a b', 'a c', 'b c']\n"
     ]
    }
   ],
   "source": [
    "# printing the results\n",
    "combination = [' '.join(char) for char in comb]\n",
    "print(combination)"
   ]
  },
  {
   "cell_type": "code",
   "execution_count": null,
   "id": "295c6d85",
   "metadata": {},
   "outputs": [],
   "source": []
  }
 ],
 "metadata": {
  "kernelspec": {
   "display_name": "Python 3 (ipykernel)",
   "language": "python",
   "name": "python3"
  },
  "language_info": {
   "codemirror_mode": {
    "name": "ipython",
    "version": 3
   },
   "file_extension": ".py",
   "mimetype": "text/x-python",
   "name": "python",
   "nbconvert_exporter": "python",
   "pygments_lexer": "ipython3",
   "version": "3.9.7"
  }
 },
 "nbformat": 4,
 "nbformat_minor": 5
}
