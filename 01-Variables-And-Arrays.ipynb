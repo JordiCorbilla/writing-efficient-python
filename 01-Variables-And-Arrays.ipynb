{
 "cells": [
  {
   "cell_type": "markdown",
   "id": "c142d1fd",
   "metadata": {},
   "source": [
    "# Variables and Arrays"
   ]
  },
  {
   "cell_type": "code",
   "execution_count": 1,
   "id": "709b3661",
   "metadata": {},
   "outputs": [],
   "source": [
    "from random import random\n",
    "import numpy as np\n",
    "import torch"
   ]
  },
  {
   "cell_type": "markdown",
   "id": "a33084d6",
   "metadata": {},
   "source": [
    "### Comments"
   ]
  },
  {
   "cell_type": "code",
   "execution_count": 2,
   "id": "b3f0c4e0",
   "metadata": {},
   "outputs": [],
   "source": [
    "# this is a comment"
   ]
  },
  {
   "cell_type": "code",
   "execution_count": 3,
   "id": "8fc21301",
   "metadata": {},
   "outputs": [],
   "source": [
    "\"\"\"\n",
    "    this is a docstring\n",
    "    for testing\n",
    "\"\"\"\n",
    "\n",
    "def my_function():\n",
    "    \"\"\" Here is a docstring inside a function \"\"\""
   ]
  },
  {
   "cell_type": "code",
   "execution_count": 4,
   "id": "e2adbf53",
   "metadata": {},
   "outputs": [
    {
     "data": {
      "text/plain": [
       "' Here is a docstring inside a function '"
      ]
     },
     "execution_count": 4,
     "metadata": {},
     "output_type": "execute_result"
    }
   ],
   "source": [
    "my_function.__doc__"
   ]
  },
  {
   "cell_type": "markdown",
   "id": "1df46353",
   "metadata": {},
   "source": [
    "## Variables"
   ]
  },
  {
   "cell_type": "code",
   "execution_count": 6,
   "id": "738c3a22",
   "metadata": {},
   "outputs": [],
   "source": [
    "# integer\n",
    "a = 25"
   ]
  },
  {
   "cell_type": "code",
   "execution_count": 7,
   "id": "c3a5c387",
   "metadata": {},
   "outputs": [],
   "source": [
    "# Float\n",
    "b = 11.39"
   ]
  },
  {
   "cell_type": "code",
   "execution_count": 8,
   "id": "d76abe6f",
   "metadata": {},
   "outputs": [],
   "source": [
    "# string\n",
    "ticker = \"ETH\""
   ]
  },
  {
   "cell_type": "code",
   "execution_count": 9,
   "id": "2335f36a",
   "metadata": {},
   "outputs": [],
   "source": [
    "# Boolean\n",
    "is_profit = True"
   ]
  },
  {
   "cell_type": "markdown",
   "id": "dbaccbcd",
   "metadata": {},
   "source": [
    "## Opeators and Expressions"
   ]
  },
  {
   "cell_type": "code",
   "execution_count": 10,
   "id": "0057397d",
   "metadata": {},
   "outputs": [
    {
     "name": "stdout",
     "output_type": "stream",
     "text": [
      "36.39\n"
     ]
    }
   ],
   "source": [
    "c = a + b\n",
    "print(c)"
   ]
  },
  {
   "cell_type": "code",
   "execution_count": 11,
   "id": "eabb86c3",
   "metadata": {},
   "outputs": [
    {
     "name": "stdout",
     "output_type": "stream",
     "text": [
      "13.61\n"
     ]
    }
   ],
   "source": [
    "c = a - b\n",
    "print(c)"
   ]
  },
  {
   "cell_type": "code",
   "execution_count": 12,
   "id": "64577b47",
   "metadata": {},
   "outputs": [
    {
     "name": "stdout",
     "output_type": "stream",
     "text": [
      "284.75\n"
     ]
    }
   ],
   "source": [
    "c = a * b\n",
    "print(c)"
   ]
  },
  {
   "cell_type": "code",
   "execution_count": 13,
   "id": "88597444",
   "metadata": {},
   "outputs": [
    {
     "name": "stdout",
     "output_type": "stream",
     "text": [
      "2.194907813871817\n"
     ]
    }
   ],
   "source": [
    "c = a / b\n",
    "print(c)"
   ]
  },
  {
   "cell_type": "code",
   "execution_count": 14,
   "id": "876fca95",
   "metadata": {},
   "outputs": [
    {
     "name": "stdout",
     "output_type": "stream",
     "text": [
      "2.219999999999999\n"
     ]
    }
   ],
   "source": [
    "c = a % b\n",
    "print(c)"
   ]
  },
  {
   "cell_type": "markdown",
   "id": "c8487b79",
   "metadata": {},
   "source": [
    "## String Manipulation"
   ]
  },
  {
   "cell_type": "code",
   "execution_count": 26,
   "id": "48058548",
   "metadata": {},
   "outputs": [
    {
     "name": "stdout",
     "output_type": "stream",
     "text": [
      "True\n"
     ]
    }
   ],
   "source": [
    "# starts with\n",
    "text = \"abc\"\n",
    " \n",
    "# returns True\n",
    "result = text.startswith('ab')\n",
    "print(result)"
   ]
  },
  {
   "cell_type": "code",
   "execution_count": 27,
   "id": "f4947db4",
   "metadata": {},
   "outputs": [
    {
     "name": "stdout",
     "output_type": "stream",
     "text": [
      "bbc\n"
     ]
    }
   ],
   "source": [
    "# replace\n",
    "string = \"abc\"\n",
    " \n",
    "# Prints the string by replacing\n",
    "print(string.replace(\"a\", \"b\"))"
   ]
  },
  {
   "cell_type": "code",
   "execution_count": 28,
   "id": "0d97d7a8",
   "metadata": {},
   "outputs": [
    {
     "name": "stdout",
     "output_type": "stream",
     "text": [
      "First 3 characters: abc\n"
     ]
    }
   ],
   "source": [
    "string = \"abcde\"\n",
    "first_characters = string[0: 3]\n",
    "print(\"First 3 characters:\", first_characters)"
   ]
  },
  {
   "cell_type": "markdown",
   "id": "5117eca2",
   "metadata": {},
   "source": [
    "## Lists and Arrays"
   ]
  },
  {
   "cell_type": "code",
   "execution_count": 15,
   "id": "46b8ce97",
   "metadata": {},
   "outputs": [
    {
     "name": "stdout",
     "output_type": "stream",
     "text": [
      "[2.34, 0.21, 5.89, 2.98, 'BTC']\n"
     ]
    }
   ],
   "source": [
    "# Flexible and easy to work with\n",
    "# I can add strings here if I wanted\n",
    "prices_list = [2.34, 0.21, 5.89, 2.98, \"BTC\"]\n",
    "print(prices_list)"
   ]
  },
  {
   "cell_type": "code",
   "execution_count": 16,
   "id": "52ba519e",
   "metadata": {},
   "outputs": [
    {
     "name": "stdout",
     "output_type": "stream",
     "text": [
      "[2.34 0.21 5.89 2.98]\n"
     ]
    }
   ],
   "source": [
    "# arrays are better for heavy computantions and are faster, only one type of data\n",
    "prices_array = np.array([2.34, 0.21, 5.89, 2.98])\n",
    "print(prices_array)"
   ]
  },
  {
   "cell_type": "code",
   "execution_count": 17,
   "id": "4ffd08f6",
   "metadata": {},
   "outputs": [
    {
     "name": "stdout",
     "output_type": "stream",
     "text": [
      "tensor([2.3400, 0.2100, 5.8900, 2.9800])\n"
     ]
    }
   ],
   "source": [
    "# For Neural Networks (how we feed the data into the tensor)\n",
    "prices_tensor = torch.Tensor(prices_array)\n",
    "print(prices_tensor)"
   ]
  },
  {
   "cell_type": "code",
   "execution_count": 18,
   "id": "d490ff82",
   "metadata": {},
   "outputs": [
    {
     "name": "stdout",
     "output_type": "stream",
     "text": [
      "[2.34, 0.21, 5.89, 2.98, 'BTC', 4.92]\n"
     ]
    }
   ],
   "source": [
    "# append to the list\n",
    "prices_list.append(4.92)\n",
    "print(prices_list)"
   ]
  },
  {
   "cell_type": "code",
   "execution_count": 19,
   "id": "cef76361",
   "metadata": {},
   "outputs": [
    {
     "name": "stdout",
     "output_type": "stream",
     "text": [
      "2.34\n"
     ]
    }
   ],
   "source": [
    "# Call items\n",
    "first_item = prices_list[0]\n",
    "print(first_item)"
   ]
  },
  {
   "cell_type": "code",
   "execution_count": 20,
   "id": "da329472",
   "metadata": {},
   "outputs": [
    {
     "name": "stdout",
     "output_type": "stream",
     "text": [
      "4.92\n"
     ]
    }
   ],
   "source": [
    "# call item (last element)\n",
    "last_item = prices_list[-1]\n",
    "print(last_item)"
   ]
  },
  {
   "cell_type": "code",
   "execution_count": 21,
   "id": "4126354f",
   "metadata": {},
   "outputs": [
    {
     "name": "stdout",
     "output_type": "stream",
     "text": [
      "[2.34, 0.21]\n",
      "[2.34, 0.21, 5.89, 2.98, 'BTC']\n"
     ]
    }
   ],
   "source": [
    "# call the first two items\n",
    "first_two_items = prices_list[:2]\n",
    "# call all items but the last one\n",
    "all_but_last = prices_list[:-1]\n",
    "print(first_two_items)\n",
    "print(all_but_last)"
   ]
  },
  {
   "cell_type": "code",
   "execution_count": 22,
   "id": "933284e9",
   "metadata": {},
   "outputs": [
    {
     "name": "stdout",
     "output_type": "stream",
     "text": [
      "list length:  6\n",
      "array length:  4\n",
      "tensor length:  4\n"
     ]
    }
   ],
   "source": [
    "# Lengths\n",
    "list_length = len(prices_list)\n",
    "print(\"list length: \", list_length)\n",
    "arr_length = len(prices_array)\n",
    "print(\"array length: \", arr_length)\n",
    "tensor_length = len(prices_tensor)\n",
    "print(\"tensor length: \", tensor_length)"
   ]
  },
  {
   "cell_type": "code",
   "execution_count": 23,
   "id": "a6b20589",
   "metadata": {},
   "outputs": [
    {
     "name": "stdout",
     "output_type": "stream",
     "text": [
      "[[1.34 0.22 1.19 0.31]\n",
      " [1.37 2.   0.17 2.22]]\n",
      "Prices Shape: (2, 4)\n"
     ]
    }
   ],
   "source": [
    "# Shapes\n",
    "# opening an array within an array\n",
    "open_prices = [1.34, 0.22, 1.19, 0.31]\n",
    "close_prices = [1.37, 2.00, 0.17, 2.22]\n",
    "prices_arr = np.array([open_prices, close_prices])\n",
    "print(prices_arr)\n",
    "print(f\"Prices Shape: {prices_arr.shape}\")"
   ]
  },
  {
   "cell_type": "code",
   "execution_count": 24,
   "id": "f6ebde2a",
   "metadata": {},
   "outputs": [
    {
     "name": "stdout",
     "output_type": "stream",
     "text": [
      "[[1.34 0.22]\n",
      " [1.19 0.31]\n",
      " [1.37 2.  ]\n",
      " [0.17 2.22]]\n"
     ]
    }
   ],
   "source": [
    "# Reshape array\n",
    "reshaped = prices_arr.reshape(4, 2)\n",
    "print(reshaped)\n",
    "#it has reshaped them into 4 arrays of 2"
   ]
  },
  {
   "cell_type": "code",
   "execution_count": 25,
   "id": "d99c9b4a",
   "metadata": {},
   "outputs": [
    {
     "name": "stdout",
     "output_type": "stream",
     "text": [
      "[1.34 0.22 1.19 0.31 1.37 2.   0.17 2.22]\n"
     ]
    }
   ],
   "source": [
    "# Flatten an array, [:] means all items, and then get the first item\n",
    "flatten = prices_arr.reshape(1,8)[:][0]\n",
    "print(flatten)"
   ]
  }
 ],
 "metadata": {
  "kernelspec": {
   "display_name": "Python 3 (ipykernel)",
   "language": "python",
   "name": "python3"
  },
  "language_info": {
   "codemirror_mode": {
    "name": "ipython",
    "version": 3
   },
   "file_extension": ".py",
   "mimetype": "text/x-python",
   "name": "python",
   "nbconvert_exporter": "python",
   "pygments_lexer": "ipython3",
   "version": "3.10.4"
  }
 },
 "nbformat": 4,
 "nbformat_minor": 5
}
