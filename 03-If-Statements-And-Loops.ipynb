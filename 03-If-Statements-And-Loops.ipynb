{
 "cells": [
  {
   "cell_type": "markdown",
   "id": "21606569",
   "metadata": {},
   "source": [
    "# If Statements"
   ]
  },
  {
   "cell_type": "code",
   "execution_count": 1,
   "id": "216f7133",
   "metadata": {},
   "outputs": [
    {
     "name": "stdout",
     "output_type": "stream",
     "text": [
      "It's true\n"
     ]
    }
   ],
   "source": [
    "# A simple if\n",
    "if 1 == 1:\n",
    "    print(\"It's true\")"
   ]
  },
  {
   "cell_type": "code",
   "execution_count": 1,
   "id": "a2358215",
   "metadata": {},
   "outputs": [
    {
     "name": "stdout",
     "output_type": "stream",
     "text": [
      "No, 1 does not equal 1!\n"
     ]
    }
   ],
   "source": [
    "# If else\n",
    "if 1 != 1:\n",
    "    print(\"It's not true!\")\n",
    "else:\n",
    "    print(\"No, 1 does not equal 1!\")"
   ]
  },
  {
   "cell_type": "code",
   "execution_count": 5,
   "id": "bb557799",
   "metadata": {},
   "outputs": [
    {
     "name": "stdout",
     "output_type": "stream",
     "text": [
      "Yes, it is greater than zero!\n"
     ]
    }
   ],
   "source": [
    "# Else if\n",
    "if 1 != 1:\n",
    "    print(\"It's true!\")\n",
    "elif 1 > 0:\n",
    "    print(\"Yes, it is greater than zero!\")\n",
    "else:\n",
    "    print(\"What just happened?\")"
   ]
  },
  {
   "cell_type": "code",
   "execution_count": 6,
   "id": "6a459e53",
   "metadata": {},
   "outputs": [
    {
     "name": "stdout",
     "output_type": "stream",
     "text": [
      "Hello Apple\n",
      "CAT and APPLE are different\n",
      "TSLA and GOOG are here!\n",
      "Either MSFT or AMZN are here!\n"
     ]
    }
   ],
   "source": [
    "# and, or, in, not\n",
    "tech_stocks = [\"AAPL\", \"GOOG\", \"TSLA\", \"MSFT\"]\n",
    "\n",
    "if \"AAPL\" in tech_stocks:\n",
    "    print(\"Hello Apple\")\n",
    "if not \"CAT\" == \"APPLE\":\n",
    "    print(\"CAT and APPLE are different\")\n",
    "if \"TSLA\" in tech_stocks and \"GOOG\" in tech_stocks:\n",
    "    print(\"TSLA and GOOG are here!\")\n",
    "if \"MSFT\" in tech_stocks or \"AMZN\" in tech_stocks:\n",
    "    print(\"Either MSFT or AMZN are here!\")"
   ]
  },
  {
   "cell_type": "code",
   "execution_count": 7,
   "id": "a692f695",
   "metadata": {},
   "outputs": [
    {
     "name": "stdout",
     "output_type": "stream",
     "text": [
      "Signal is BUY\n"
     ]
    }
   ],
   "source": [
    "# Ternary if condition\n",
    "stock_dict_1 = {\n",
    "    \"ticker\": \"AAPL\",\n",
    "    \"name\": \"APPLE\",\n",
    "    \"current_price\": 400\n",
    "}\n",
    "stock_dict_2 = {\n",
    "    \"ticker\": \"TSLA\",\n",
    "    \"name\": \"TESLA\",\n",
    "    \"current_price\": 550\n",
    "}\n",
    "my_stocks = [stock_dict_1, stock_dict_2]\n",
    "\n",
    "signal = \"BUY\" if my_stocks[0][\"ticker\"] == \"AAPL\" else \"HOLD\"\n",
    "print(f\"Signal is {signal}\")"
   ]
  },
  {
   "cell_type": "markdown",
   "id": "93985fb0",
   "metadata": {},
   "source": [
    "# Loops"
   ]
  },
  {
   "cell_type": "code",
   "execution_count": 9,
   "id": "33253888",
   "metadata": {},
   "outputs": [
    {
     "name": "stdout",
     "output_type": "stream",
     "text": [
      "{'ticker': 'AAPL', 'name': 'APPLE', 'current_price': 400}\n",
      "{'ticker': 'TSLA', 'name': 'TESLA', 'current_price': 550}\n",
      "AAPL\n",
      "TSLA\n"
     ]
    }
   ],
   "source": [
    "# for loop\n",
    "for stock in my_stocks:\n",
    "    print(stock)\n",
    "for stock in my_stocks:\n",
    "    print(stock[\"ticker\"])    "
   ]
  },
  {
   "cell_type": "code",
   "execution_count": 10,
   "id": "e021bdcc",
   "metadata": {},
   "outputs": [
    {
     "name": "stdout",
     "output_type": "stream",
     "text": [
      "Volume: 800\n",
      "Volume: 1100\n"
     ]
    }
   ],
   "source": [
    "# for loop\n",
    "for stock in my_stocks:\n",
    "    price = stock[\"current_price\"]\n",
    "    volume = price * 2\n",
    "    print(f\"Volume: {volume}\")"
   ]
  },
  {
   "cell_type": "code",
   "execution_count": 14,
   "id": "2ae4e98e",
   "metadata": {},
   "outputs": [
    {
     "name": "stdout",
     "output_type": "stream",
     "text": [
      "APPLE 400\n",
      "TESLA 550\n",
      "GOOGLE 1000\n",
      "GOOGLE 1000\n"
     ]
    }
   ],
   "source": [
    "# While loop\n",
    "new_stock = {\"ticker\": \"GOOG\", \"name\": \"GOOGLE\", \"current_price\": 1000}\n",
    "my_stocks.append(new_stock)\n",
    "\n",
    "i = 0\n",
    "while i < len(my_stocks):\n",
    "    stock = my_stocks[i][\"name\"]\n",
    "    price = my_stocks[i][\"current_price\"]\n",
    "    print(stock, price)\n",
    "    i += 1"
   ]
  },
  {
   "cell_type": "code",
   "execution_count": 15,
   "id": "14689761",
   "metadata": {},
   "outputs": [
    {
     "name": "stdout",
     "output_type": "stream",
     "text": [
      "Ticker: AAPL, Price: 400\n",
      "Ticker: TSLA, Price: 550\n"
     ]
    }
   ],
   "source": [
    "# break\n",
    "for stock in my_stocks:\n",
    "    ticker = stock[\"ticker\"]\n",
    "    price = stock[\"current_price\"]\n",
    "    if price > 700:\n",
    "        break;\n",
    "    print(f\"Ticker: {ticker}, Price: {price}\")"
   ]
  },
  {
   "cell_type": "code",
   "execution_count": 16,
   "id": "80e54071",
   "metadata": {},
   "outputs": [
    {
     "name": "stdout",
     "output_type": "stream",
     "text": [
      "Ticker: TSLA, Price: 550\n",
      "Ticker: GOOG, Price: 1000\n",
      "Ticker: GOOG, Price: 1000\n"
     ]
    }
   ],
   "source": [
    "# Continue\n",
    "for stock in my_stocks:\n",
    "    ticker = stock[\"ticker\"]\n",
    "    price = stock[\"current_price\"]\n",
    "    if price < 500:\n",
    "        continue;\n",
    "    print(f\"Ticker: {ticker}, Price: {price}\")\n",
    "    # it will not print APPL"
   ]
  },
  {
   "cell_type": "code",
   "execution_count": null,
   "id": "6d43f05d",
   "metadata": {},
   "outputs": [],
   "source": []
  }
 ],
 "metadata": {
  "kernelspec": {
   "display_name": "Python 3 (ipykernel)",
   "language": "python",
   "name": "python3"
  },
  "language_info": {
   "codemirror_mode": {
    "name": "ipython",
    "version": 3
   },
   "file_extension": ".py",
   "mimetype": "text/x-python",
   "name": "python",
   "nbconvert_exporter": "python",
   "pygments_lexer": "ipython3",
   "version": "3.10.4"
  }
 },
 "nbformat": 4,
 "nbformat_minor": 5
}
