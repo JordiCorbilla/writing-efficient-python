{
 "cells": [
  {
   "cell_type": "markdown",
   "id": "3e7d4447",
   "metadata": {},
   "source": [
    "# Writing Better Loops\n",
    "# For Loop, List Comprehenion, Map Function and Itertools"
   ]
  },
  {
   "cell_type": "code",
   "execution_count": 21,
   "id": "98fee7bc",
   "metadata": {},
   "outputs": [
    {
     "name": "stdout",
     "output_type": "stream",
     "text": [
      "[6.01, 4.76, 7.42]\n"
     ]
    }
   ],
   "source": [
    "# Sample Data, list of prices\n",
    "closing_prices = [\n",
    "    [0.30, 2.22, 2.18, 1.31],\n",
    "    [0.37, 1.00, 2.17, 1.22],\n",
    "    [0.34, 2.21, 2.89, 1.98]\n",
    "]\n",
    "\n",
    "# Sample calculation to perform\n",
    "price_totals = []\n",
    "for day in closing_prices:\n",
    "    price_totals.append(sum(day))\n",
    "\n",
    "print(price_totals)"
   ]
  },
  {
   "cell_type": "markdown",
   "id": "d8353053",
   "metadata": {},
   "source": [
    "## 1) Using common `For Loop`\n",
    "This is a common approach with a slow runtime"
   ]
  },
  {
   "cell_type": "code",
   "execution_count": 22,
   "id": "156fe511",
   "metadata": {},
   "outputs": [
    {
     "name": "stdout",
     "output_type": "stream",
     "text": [
      "543 ns ± 6.36 ns per loop (mean ± std. dev. of 7 runs, 1000000 loops each)\n"
     ]
    }
   ],
   "source": [
    "%%timeit\n",
    "\n",
    "price_totals = []\n",
    "for day in closing_prices:\n",
    "    price_totals.append(sum(day))"
   ]
  },
  {
   "cell_type": "code",
   "execution_count": 23,
   "id": "97e6a415",
   "metadata": {},
   "outputs": [
    {
     "name": "stdout",
     "output_type": "stream",
     "text": [
      "775 ns ± 5.15 ns per loop (mean ± std. dev. of 7 runs, 1000000 loops each)\n"
     ]
    }
   ],
   "source": [
    "%%timeit\n",
    "\n",
    "price_totals = []\n",
    "for (index, day) in enumerate(closing_prices):\n",
    "    price_totals.append(sum(closing_prices[index]))"
   ]
  },
  {
   "cell_type": "markdown",
   "id": "ff0f9f02",
   "metadata": {},
   "source": [
    "## 2) Using `List Comprehension`\n",
    "One line approach, better runtime"
   ]
  },
  {
   "cell_type": "code",
   "execution_count": 24,
   "id": "c7a46d2d",
   "metadata": {},
   "outputs": [
    {
     "name": "stdout",
     "output_type": "stream",
     "text": [
      "510 ns ± 2.4 ns per loop (mean ± std. dev. of 7 runs, 1000000 loops each)\n"
     ]
    }
   ],
   "source": [
    "%%timeit\n",
    "\n",
    "price_totals = [sum(day) for day in closing_prices]"
   ]
  },
  {
   "cell_type": "markdown",
   "id": "ccfc8b5d",
   "metadata": {},
   "source": [
    "## 3) Using the `Map` function\n",
    "- One line approach, faster runtime\n",
    "- the `*` symbol in the map below is to indicate the number of arguments that will be passed to the list"
   ]
  },
  {
   "cell_type": "code",
   "execution_count": 28,
   "id": "d3f0edc2",
   "metadata": {},
   "outputs": [
    {
     "name": "stdout",
     "output_type": "stream",
     "text": [
      "467 ns ± 3.28 ns per loop (mean ± std. dev. of 7 runs, 1000000 loops each)\n"
     ]
    }
   ],
   "source": [
    "%%timeit\n",
    "\n",
    "price_totals = [*map(sum, closing_prices)]"
   ]
  },
  {
   "cell_type": "markdown",
   "id": "e802fdbb",
   "metadata": {},
   "source": [
    "## 4) Using the `intertools` library\n",
    "\n",
    "Python’s Itertool is a module that provides various functions that work on iterators to produce complex iterators. This module works as a `fast`, `memory-efficient` tool that is used either by themselves or in combination to form iterator algebra."
   ]
  },
  {
   "cell_type": "markdown",
   "id": "798b24af",
   "metadata": {},
   "source": [
    "### 4.1) Combinations"
   ]
  },
  {
   "cell_type": "code",
   "execution_count": 48,
   "id": "17109f40",
   "metadata": {},
   "outputs": [],
   "source": [
    "from itertools import combinations\n",
    "\n",
    "letters = ['a', 'b', 'c']\n",
    "\n",
    "# Create 2 letter combination from the input above (no repeats) -> ab, ac, bc"
   ]
  },
  {
   "cell_type": "code",
   "execution_count": 50,
   "id": "98b10bf4",
   "metadata": {},
   "outputs": [
    {
     "name": "stdout",
     "output_type": "stream",
     "text": [
      "1.54 µs ± 17.1 ns per loop (mean ± std. dev. of 7 runs, 1000000 loops each)\n"
     ]
    }
   ],
   "source": [
    "%%timeit\n",
    "\n",
    "# using a simple for loop\n",
    "comb = []\n",
    "for char_1 in letters:\n",
    "    for char_2 in letters:\n",
    "        if char_1 != char_2 and ((char_1, char_2) not in comb) and ((char_2, char_1) not in comb):\n",
    "            comb.append((char_1, char_2))"
   ]
  },
  {
   "cell_type": "code",
   "execution_count": 53,
   "id": "080d268a",
   "metadata": {},
   "outputs": [
    {
     "name": "stdout",
     "output_type": "stream",
     "text": [
      "['a b', 'a c', 'b c']\n"
     ]
    }
   ],
   "source": [
    "# printing the results\n",
    "combination = [' '.join(char) for char in comb]\n",
    "print(combination)"
   ]
  },
  {
   "cell_type": "code",
   "execution_count": 54,
   "id": "ff1e6f24",
   "metadata": {},
   "outputs": [
    {
     "name": "stdout",
     "output_type": "stream",
     "text": [
      "134 ns ± 0.759 ns per loop (mean ± std. dev. of 7 runs, 10000000 loops each)\n"
     ]
    }
   ],
   "source": [
    "%%timeit\n",
    "\n",
    "# using intertools\n",
    "comb = []\n",
    "comb = combinations(letters, 2)"
   ]
  },
  {
   "cell_type": "code",
   "execution_count": 55,
   "id": "a43c6efd",
   "metadata": {},
   "outputs": [
    {
     "name": "stdout",
     "output_type": "stream",
     "text": [
      "['a b', 'a c', 'b c']\n"
     ]
    }
   ],
   "source": [
    "# printing the results\n",
    "combination = [' '.join(char) for char in comb]\n",
    "print(combination)"
   ]
  },
  {
   "cell_type": "markdown",
   "id": "c1a48a51",
   "metadata": {},
   "source": [
    "### 4.2) Iterator"
   ]
  },
  {
   "cell_type": "code",
   "execution_count": 17,
   "id": "85dfd0a7",
   "metadata": {},
   "outputs": [],
   "source": [
    "import operator\n",
    "import time\n",
    "\n",
    "closing_prices_1 = [0.30, 2.22, 2.18, 1.31]\n",
    "closing_prices_2 = [0.37, 1.00, 2.17, 1.22]"
   ]
  },
  {
   "cell_type": "code",
   "execution_count": 21,
   "id": "02b95a1a",
   "metadata": {},
   "outputs": [
    {
     "name": "stdout",
     "output_type": "stream",
     "text": [
      "736 ns ± 2.66 ns per loop (mean ± std. dev. of 7 runs, 1,000,000 loops each)\n"
     ]
    }
   ],
   "source": [
    "%%timeit\n",
    "\n",
    "results = []\n",
    "for i in range(4):\n",
    "    results.append(closing_prices_1[i] * closing_prices_2[i])"
   ]
  },
  {
   "cell_type": "code",
   "execution_count": 24,
   "id": "4c3e79fc",
   "metadata": {},
   "outputs": [
    {
     "name": "stdout",
     "output_type": "stream",
     "text": [
      "201 ns ± 1.32 ns per loop (mean ± std. dev. of 7 runs, 1,000,000 loops each)\n"
     ]
    }
   ],
   "source": [
    "%%timeit\n",
    "\n",
    "results_iterator =  []\n",
    "results_iterator = map(operator.mul, closing_prices_1, closing_prices_2)"
   ]
  },
  {
   "cell_type": "markdown",
   "id": "aafd61d2",
   "metadata": {},
   "source": [
    "### 4.3) Infinite Iterators"
   ]
  },
  {
   "cell_type": "code",
   "execution_count": 34,
   "id": "4a126602",
   "metadata": {},
   "outputs": [
    {
     "name": "stdout",
     "output_type": "stream",
     "text": [
      "0 1 2 3 4 5 6 7 8 9 10 11 12 13 14 15 16 17 18 19 20 "
     ]
    }
   ],
   "source": [
    "import itertools\n",
    "\n",
    "# count from 0 to infinite, and break at 20\n",
    "for i in itertools.count(0):\n",
    "    print(i, end =\" \")\n",
    "    if i == 20:\n",
    "        break"
   ]
  },
  {
   "cell_type": "code",
   "execution_count": 35,
   "id": "be137cde",
   "metadata": {},
   "outputs": [
    {
     "name": "stdout",
     "output_type": "stream",
     "text": [
      "2 4 6 8 10 12 14 16 18 20 "
     ]
    }
   ],
   "source": [
    "# count from 2 to infinite with jumps of 2, and break at 20\n",
    "for i in itertools.count(2, 2):\n",
    "    print(i, end =\" \")\n",
    "    if i == 20:\n",
    "        break"
   ]
  },
  {
   "cell_type": "code",
   "execution_count": 36,
   "id": "799d67ed",
   "metadata": {},
   "outputs": [
    {
     "name": "stdout",
     "output_type": "stream",
     "text": [
      "a b a b a b a b a b "
     ]
    }
   ],
   "source": [
    "# using cycle function\n",
    "\n",
    "characters = ['a', 'b']\n",
    "iterators = itertools.cycle(characters)\n",
    "# Using the next function\n",
    "for i in range(10):\n",
    "    print(next(iterators), end = \" \")"
   ]
  },
  {
   "cell_type": "code",
   "execution_count": 37,
   "id": "dd41a975",
   "metadata": {},
   "outputs": [
    {
     "name": "stdout",
     "output_type": "stream",
     "text": [
      "[1, 1, 1, 1, 1, 1, 1, 1, 1, 1]\n"
     ]
    }
   ],
   "source": [
    "# printing numbers repeatedly (number 1, 10 times)\n",
    "print(list(itertools.repeat(1, 10)))"
   ]
  },
  {
   "cell_type": "code",
   "execution_count": 40,
   "id": "9459e1ab",
   "metadata": {},
   "outputs": [
    {
     "name": "stdout",
     "output_type": "stream",
     "text": [
      "[('a', 'c'), ('a', 'd'), ('b', 'c'), ('b', 'd')]\n"
     ]
    }
   ],
   "source": [
    "# cartesian product (a,b) x (c, d) = ac, ad, bc, bd\n",
    "from itertools import product\n",
    "print(list(product('ab', 'cd')))"
   ]
  },
  {
   "cell_type": "code",
   "execution_count": 43,
   "id": "b9bc2408",
   "metadata": {},
   "outputs": [
    {
     "name": "stdout",
     "output_type": "stream",
     "text": [
      "[('a', 'b', 'c'), ('a', 'c', 'b'), ('b', 'a', 'c'), ('b', 'c', 'a'), ('c', 'a', 'b'), ('c', 'b', 'a')]\n"
     ]
    }
   ],
   "source": [
    "# permutations abc -> abc, acb, bac, bca, cab,cba\n",
    "from itertools import permutations\n",
    "print(list(permutations('abc')))"
   ]
  },
  {
   "cell_type": "code",
   "execution_count": 45,
   "id": "e37525a7",
   "metadata": {},
   "outputs": [
    {
     "name": "stdout",
     "output_type": "stream",
     "text": [
      "[('a', 'b'), ('a', 'c'), ('b', 'c')]\n"
     ]
    }
   ],
   "source": [
    "# combinations abc of 2 elements -> ab, ac, bc *sorted\n",
    "from itertools import combinations\n",
    "print(list(combinations('abc', 2)))"
   ]
  },
  {
   "cell_type": "code",
   "execution_count": 46,
   "id": "43b4271b",
   "metadata": {},
   "outputs": [
    {
     "name": "stdout",
     "output_type": "stream",
     "text": [
      "[('a', 'a'), ('a', 'b'), ('a', 'c'), ('b', 'b'), ('b', 'c'), ('c', 'c')]\n"
     ]
    }
   ],
   "source": [
    "# combinations abc of 2 elements with replacement -> aa, ab, ac, bb, bc, cc *sorted\n",
    "from itertools import combinations_with_replacement\n",
    "print(list(combinations_with_replacement(\"abc\", 2)))"
   ]
  },
  {
   "cell_type": "code",
   "execution_count": 47,
   "id": "51d1fcc0",
   "metadata": {},
   "outputs": [
    {
     "name": "stdout",
     "output_type": "stream",
     "text": [
      "[0.3, 2.52, 4.7, 6.01]\n",
      "[0.3, 0.666, 1.4518800000000003, 1.9019628000000004]\n"
     ]
    }
   ],
   "source": [
    "# accumulating values(sum and multiplication)\n",
    "closing_prices = [0.30, 2.22, 2.18, 1.31]\n",
    "print(list(itertools.accumulate(closing_prices)))\n",
    "print(list(itertools.accumulate(closing_prices, operator.mul)))"
   ]
  },
  {
   "cell_type": "code",
   "execution_count": 48,
   "id": "e1e52dd1",
   "metadata": {},
   "outputs": [
    {
     "name": "stdout",
     "output_type": "stream",
     "text": [
      "[0.3, 2.22, 2.18, 1.31, 0.37, 1.0, 2.17, 1.22]\n"
     ]
    }
   ],
   "source": [
    "# chain method\n",
    "print(list(itertools.chain(closing_prices_1, closing_prices_2)))"
   ]
  },
  {
   "cell_type": "code",
   "execution_count": 49,
   "id": "8cd8d40b",
   "metadata": {},
   "outputs": [
    {
     "name": "stdout",
     "output_type": "stream",
     "text": [
      "[0.3, 2.22, 2.18, 1.31, 0.37, 1.0, 2.17, 1.22]\n"
     ]
    }
   ],
   "source": [
    "# chain method from a list of list\n",
    "all_prices = [closing_prices_1, closing_prices_2]\n",
    "print(list(itertools.chain.from_iterable(all_prices)))"
   ]
  },
  {
   "cell_type": "code",
   "execution_count": 52,
   "id": "b645ae76",
   "metadata": {},
   "outputs": [
    {
     "name": "stdout",
     "output_type": "stream",
     "text": [
      "[0.3, 2.22, 2.18, 1.31]\n",
      "[0.3, 1.31]\n"
     ]
    }
   ],
   "source": [
    "# compress function that allows you to filter data (only first and last column will be shown)\n",
    "print(closing_prices_1)\n",
    "print(list(itertools.compress(closing_prices_1, [1, 0, 0, True])))"
   ]
  },
  {
   "cell_type": "code",
   "execution_count": null,
   "id": "a42afa1b",
   "metadata": {},
   "outputs": [],
   "source": []
  }
 ],
 "metadata": {
  "kernelspec": {
   "display_name": "Python 3 (ipykernel)",
   "language": "python",
   "name": "python3"
  },
  "language_info": {
   "codemirror_mode": {
    "name": "ipython",
    "version": 3
   },
   "file_extension": ".py",
   "mimetype": "text/x-python",
   "name": "python",
   "nbconvert_exporter": "python",
   "pygments_lexer": "ipython3",
   "version": "3.10.4"
  }
 },
 "nbformat": 4,
 "nbformat_minor": 5
}
